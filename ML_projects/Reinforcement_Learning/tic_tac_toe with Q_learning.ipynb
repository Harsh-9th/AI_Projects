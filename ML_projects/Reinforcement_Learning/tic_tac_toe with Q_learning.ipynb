{
 "cells": [
  {
   "cell_type": "markdown",
   "id": "5da4d811",
   "metadata": {},
   "source": [
    "<h1>Tic Tac Toe Game"
   ]
  },
  {
   "cell_type": "markdown",
   "id": "38a2b0a2",
   "metadata": {},
   "source": [
    "Importing libraries"
   ]
  },
  {
   "cell_type": "code",
   "execution_count": 99,
   "id": "56d4df6f",
   "metadata": {},
   "outputs": [],
   "source": [
    "import numpy as np\n",
    "import tkinter as tk"
   ]
  },
  {
   "cell_type": "markdown",
   "id": "1e1b3690",
   "metadata": {},
   "source": [
    "Creating the game logic"
   ]
  },
  {
   "cell_type": "code",
   "execution_count": 100,
   "id": "df33743c",
   "metadata": {},
   "outputs": [
    {
     "data": {
      "text/plain": [
       "<__main__.Game at 0x2530d3e0e80>"
      ]
     },
     "execution_count": 100,
     "metadata": {},
     "output_type": "execute_result"
    }
   ],
   "source": [
    "\n",
    "class Game():\n",
    "    \"\"\"Main class for the game\"\"\"\n",
    "\n",
    "    PLAYER_X= 1\n",
    "    PLAYER_O= 2\n",
    "    SCORE_PL=0\n",
    "    SCORE_MC=0\n",
    "\n",
    "    def __init__(self):\n",
    "        \"\"\"Innitialize game state\"\"\"\n",
    "        self.current_player= 0\n",
    "        self.player_symbols= \"XO\"\n",
    "        self.root= None\n",
    "        self.screen1()\n",
    "\n",
    "    def screen1(self):\n",
    "        \"\"\"Player selection screen\"\"\"\n",
    "        self.root= tk.Tk()\n",
    "        self.root.title(\"Player's Choice\")\n",
    "        self.root.geometry(\"300x200\")\n",
    "\n",
    "        tk.Label(self.root, text=\"Choose who you play as:\" ).grid(row= 0, column= 1, pady= 30)\n",
    "\n",
    "        self.selection_var= tk.IntVar()\n",
    "\n",
    "        tk.Radiobutton(text= \"Play as X ?\", variable= self.selection_var, value= self.PLAYER_X).grid(row= 1, column= 0, sticky= \"w\", pady= 10)\n",
    "\n",
    "        tk.Radiobutton(text= \"Play as O ?\", variable= self.selection_var, value= self.PLAYER_O).grid(row= 1, column= 2, sticky= \"e\", pady= 10)\n",
    "\n",
    "        tk.Button(self.root, text= \"Confirm\", command= self.start).grid(row= 2, column= 1, pady= 20)\n",
    "\n",
    "        self.root.mainloop()\n",
    "\n",
    "    def start(self):\n",
    "        \"\"\"Handling player selection and launching game\"\"\"\n",
    "        if self.selection_var.get() == self.PLAYER_O:\n",
    "            self.player_symbols= 'OX'\n",
    "\n",
    "        \n",
    "        self.root.destroy()\n",
    "        self.screen2()\n",
    "\n",
    "    def screen2(self):\n",
    "        \"\"\"Main game screen\"\"\"\n",
    "        self.root=tk.Tk()\n",
    "        self.root.title(\"Tic-Tac-Toe\")\n",
    "        self.root.geometry(\"300x300\")\n",
    "\n",
    "\n",
    "        #Score labels\n",
    "\n",
    "        self.score_pl= tk.StringVar(value= f\"Player\\n{self.SCORE_PL}\")\n",
    "        self.score_mc= tk.StringVar(value= f\"Machine\\n{self.SCORE_MC}\")\n",
    "\n",
    "        tk.Label(self.root, textvariable= self.score_pl, font= (\"ROG Fonts\", 9)).grid(row= 0, column= 0)\n",
    "\n",
    "        tk.Label(self.root, textvariable=self.score_mc, font= (\"ROG Fonts\", 9)).grid(row= 0, column= 2)\n",
    "\n",
    "\n",
    "        #Grid configuration\n",
    "        self.root.grid_columnconfigure((0,1,2), weight= 1)\n",
    "        self.root.grid_rowconfigure((1,2,3), weight= 1)\n",
    "        self.root.grid_rowconfigure(0, weight= 1)\n",
    "        \n",
    "        #Creating game board\n",
    "        self.board= {}\n",
    "        for i in range(3):\n",
    "            for j in range(3):\n",
    "                btn= tk.Button(self.root, width= 3, text='', font=(\"OCR A Extended\", 20), command= lambda i= i, j= j: self.update(i, j))\n",
    "\n",
    "                btn.grid(row= i + 1, column= j, sticky= \"ewns\")\n",
    "                self.board[(i,j)]= btn\n",
    "        self.root.mainloop()\n",
    "\n",
    "    def update(self, i, j):\n",
    "        \"\"\"Handle player moves\"\"\"\n",
    "        if not self.board[(i,j)][\"text\"]:\n",
    "            self.board[(i,j)][\"text\"]= self.player_symbols[self.current_player]\n",
    "            self.current_player= 1 - self.current_player\n",
    "            win=self.win_check()\n",
    "        if win is not None:\n",
    "            for (i,j), button in self.board.items():\n",
    "                if not self.board[(i,j)][\"text\"]:\n",
    "                    button.config(state= tk.DISABLED)\n",
    "            self.root1=tk.Toplevel()\n",
    "            self.root1.title(\"Win Box\")\n",
    "            self.root1.geometry(\"400x200\")\n",
    "            if win[\"text\"]== self.player_symbols[0]:\n",
    "                winner= \"You Won (～￣▽￣)～\"\n",
    "                self.SCORE_PL+=1\n",
    "                self.score_pl.set(f\"Player\\n{self.SCORE_PL}\")\n",
    "            else:\n",
    "                winner= \"Machine gets this one ＼（〇_ｏ）／\"\n",
    "                self.SCORE_MC+=1\n",
    "                self.score_mc.set(f\"Machine\\n{self.SCORE_MC}\")\n",
    "\n",
    "            tk.Label(self.root1, text=winner, font=(\"ROG Fonts\", 12)).grid(row=0, column=0, columnspan=3, sticky=\"ewns\")\n",
    "            self.root1.grid_rowconfigure(0, weight=1)\n",
    "            self.root1.grid_columnconfigure((0,1,2), weight=1)\n",
    "\n",
    "            #if Player continues\n",
    "            def play_again():\n",
    "                self.root1.destroy()\n",
    "                for (i,j), button in self.board.items():\n",
    "                    if not self.board[(i,j)][\"text\"]:\n",
    "                        button.config(state= tk.NORMAL)\n",
    "                    self.board[(i,j)][\"text\"]=''\n",
    "\n",
    "            tk.Button(self.root1, text= \"Play Again\", command= play_again).grid(row=1, column= 0, padx=30, pady=30, sticky=\"w\")\n",
    "\n",
    "            def exit():\n",
    "                self.root1.destroy()\n",
    "                self.root.destroy()\n",
    "\n",
    "            tk.Button(self.root1, text=\"Exit\", command= exit).grid(row=1, column=2, padx=30, pady=30, sticky=\"e\")\n",
    "\n",
    "                \n",
    "    def win_check(self):\n",
    "        for i in range(3):\n",
    "            if self.board[(i,0)][\"text\"] == self.board[(i,1)][\"text\"] == self.board[(i,2)][\"text\"] != '':\n",
    "                return self.board[(i,0)]\n",
    "            if self.board[(0,i)][\"text\"] == self.board[(1,i)][\"text\"] == self.board[(2,i)][\"text\"] != '':\n",
    "                return self.board[(0,i)]\n",
    "        \n",
    "        if self.board[(0,0)][\"text\"] == self.board[(1,1)][\"text\"] == self.board[(2,2)][\"text\"] != '':\n",
    "            return self.board[(0,0)]\n",
    "        \n",
    "        if self.board[(0,2)][\"text\"] == self.board[(1,1)][\"text\"] == self.board[(2,0)][\"text\"] != '':\n",
    "            return self.board[(0,2)]\n",
    "            \n",
    "        return None\n",
    "\n",
    "#start the game\n",
    "Game()\n",
    "\n",
    "\n"
   ]
  },
  {
   "cell_type": "markdown",
   "id": "7e82d350",
   "metadata": {},
   "source": [
    "To Be Implemented: Creating and training agent for the game"
   ]
  },
  {
   "cell_type": "code",
   "execution_count": 101,
   "id": "682cfa22",
   "metadata": {},
   "outputs": [],
   "source": [
    "class agent(Game):\n",
    "    \"if self.selection_var.get() == self.PLAYER_O: Machine=self.PLAYER_X\"\n",
    "    "
   ]
  },
  {
   "cell_type": "code",
   "execution_count": null,
   "id": "82b405d2",
   "metadata": {},
   "outputs": [],
   "source": []
  }
 ],
 "metadata": {
  "kernelspec": {
   "display_name": "tf_env",
   "language": "python",
   "name": "python3"
  },
  "language_info": {
   "codemirror_mode": {
    "name": "ipython",
    "version": 3
   },
   "file_extension": ".py",
   "mimetype": "text/x-python",
   "name": "python",
   "nbconvert_exporter": "python",
   "pygments_lexer": "ipython3",
   "version": "3.10.14"
  }
 },
 "nbformat": 4,
 "nbformat_minor": 5
}
