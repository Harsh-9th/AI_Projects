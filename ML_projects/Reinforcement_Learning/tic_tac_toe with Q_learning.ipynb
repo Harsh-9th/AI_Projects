{
 "cells": [
  {
   "cell_type": "markdown",
   "id": "5da4d811",
   "metadata": {},
   "source": [
    "<h1>Tic Tac Toe Game"
   ]
  },
  {
   "cell_type": "markdown",
   "id": "38a2b0a2",
   "metadata": {},
   "source": [
    "Importing libraries"
   ]
  },
  {
   "cell_type": "code",
   "execution_count": 1,
   "id": "56d4df6f",
   "metadata": {},
   "outputs": [],
   "source": [
    "import numpy as np\n",
    "import tkinter as tk"
   ]
  },
  {
   "cell_type": "markdown",
   "id": "1e1b3690",
   "metadata": {},
   "source": [
    "Creating a game board"
   ]
  },
  {
   "cell_type": "code",
   "execution_count": 24,
   "id": "df33743c",
   "metadata": {},
   "outputs": [],
   "source": [
    "root= tk.Tk()\n",
    "root.geometry(\"300x300\")\n",
    "root.title(\"Tic-Tac-Toe\")\n",
    "\n",
    "label1= tk.Label(root, text=\"Player\")\n",
    "label1.grid(row=0, column=0, padx=50, pady=5)\n",
    "label2= tk.Label(root, text=\"Machine\")\n",
    "label2.grid(row=0, column=1, padx=50, pady=5)\n",
    "\n",
    "root.mainloop()\n"
   ]
  },
  {
   "cell_type": "code",
   "execution_count": null,
   "id": "adc3c9e1",
   "metadata": {},
   "outputs": [],
   "source": []
  }
 ],
 "metadata": {
  "kernelspec": {
   "display_name": "tf_env",
   "language": "python",
   "name": "python3"
  },
  "language_info": {
   "codemirror_mode": {
    "name": "ipython",
    "version": 3
   },
   "file_extension": ".py",
   "mimetype": "text/x-python",
   "name": "python",
   "nbconvert_exporter": "python",
   "pygments_lexer": "ipython3",
   "version": "3.10.14"
  }
 },
 "nbformat": 4,
 "nbformat_minor": 5
}
