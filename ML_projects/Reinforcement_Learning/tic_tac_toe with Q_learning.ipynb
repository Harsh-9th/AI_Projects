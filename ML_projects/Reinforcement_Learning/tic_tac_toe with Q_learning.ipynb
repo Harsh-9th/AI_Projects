{
 "cells": [
  {
   "cell_type": "markdown",
   "id": "5da4d811",
   "metadata": {},
   "source": [
    "<h1>Tic Tac Toe Game"
   ]
  },
  {
   "cell_type": "markdown",
   "id": "38a2b0a2",
   "metadata": {},
   "source": [
    "Importing libraries"
   ]
  },
  {
   "cell_type": "code",
   "execution_count": 1,
   "id": "56d4df6f",
   "metadata": {},
   "outputs": [],
   "source": [
    "import numpy as np\n",
    "import tkinter as tk"
   ]
  },
  {
   "cell_type": "markdown",
   "id": "1e1b3690",
   "metadata": {},
   "source": [
    "Creating the game board"
   ]
  },
  {
   "cell_type": "code",
   "execution_count": 154,
   "id": "df33743c",
   "metadata": {},
   "outputs": [
    {
     "data": {
      "text/plain": [
       "<__main__.Game at 0x2b12a2c1270>"
      ]
     },
     "execution_count": 154,
     "metadata": {},
     "output_type": "execute_result"
    }
   ],
   "source": [
    "\n",
    "class Game():\n",
    "    \"\"\"Main class for the game\"\"\"\n",
    "\n",
    "    PLAYER_X= 1\n",
    "    PLAYER_O= 2\n",
    "    FONT_MAIN= (\"OCR A Extended\", 20)\n",
    "    FONT_SCORE= (\"ROG Fonts\", 9)\n",
    "\n",
    "    def __init__(self):\n",
    "        \"\"\"Innitialize game state\"\"\"\n",
    "        self.current_player= 0\n",
    "        self.player_symbols= \"XO\"\n",
    "        self.root= None\n",
    "        self.screen1()\n",
    "\n",
    "    def screen1(self):\n",
    "        \"\"\"Player selection screen\"\"\"\n",
    "        self.root= tk.Tk()\n",
    "        self.root.title(\"Player's Choice\")\n",
    "        self.root.geometry(\"300x200\")\n",
    "\n",
    "        tk.Label(self.root, text=\"Choose who you play as:\" ).grid(row= 0, column= 1, pady= 30)\n",
    "\n",
    "        self.selection_var= tk.IntVar()\n",
    "\n",
    "        tk.Radiobutton(text= \"Play as X ?\", variable= self.selection_var, value= self.PLAYER_X).grid(row= 1, column= 0)\n",
    "\n",
    "        tk.Radiobutton(text= \"play as O ?\", variable= self.selection_var, value= self.PLAYER_O).grid(row= 1, column= 2)\n",
    "\n",
    "        tk.Button(self.root, text= \"confirm\", command= self.start).grid(row= 2, column= 1)\n",
    "\n",
    "        self.root.mainloop()\n",
    "\n",
    "    def start(self):\n",
    "        \"\"\"Handling player selection and launching game\"\"\"\n",
    "        if self.selection_var.get() == self.PLAYER_O:\n",
    "            self.player_symbols= 'OX'\n",
    "        \n",
    "        self.root.destroy()\n",
    "        self.screen2()\n",
    "\n",
    "    def screen2(self):\n",
    "        \"\"\"Main game screen\"\"\"\n",
    "        self.root=tk.Tk()\n",
    "        self.root.title(\"Tic-Tac-Toe\")\n",
    "        self.root.geometry(\"300x300\")\n",
    "\n",
    "\n",
    "        #Score labels\n",
    "        tk.Label(self.root, text= f\"Player\\n(score)\", font=self.FONT_SCORE).grid(row= 0, column= 0)\n",
    "\n",
    "        tk.Label(self.root, text=f\"Machine\\n(score)\", font= self.FONT_SCORE).grid(row= 0, column= 2)\n",
    "\n",
    "\n",
    "        #Grid configuration\n",
    "        self.root.grid_columnconfigure((0,1,2), weight= 1)\n",
    "        self.root.grid_rowconfigure((1,2,3), weight= 1)\n",
    "        self.root.grid_rowconfigure(0, weight= 1)\n",
    "        \n",
    "        #Creating game board\n",
    "        self.board= {}\n",
    "        for i in range(3):\n",
    "            for j in range(3):\n",
    "                btn= tk.Button(self.root, width= 3, text='', font=self.FONT_MAIN, command= lambda i= i, j= j: self.update(i, j))\n",
    "\n",
    "                btn.grid(row= i + 1, column= j, sticky= \"ewns\")\n",
    "                self.board[(i,j)]= btn\n",
    "        self.root.mainloop()\n",
    "\n",
    "    def update(self, i, j):\n",
    "        \"\"\"Handle player moves\"\"\"\n",
    "        if not self.board[(i,j)][\"text\"]:\n",
    "            self.board[(i,j)][\"text\"]= self.player_symbols[self.current_player]\n",
    "            self.current_player= 1 - self.current_player\n",
    "\n",
    "\n",
    "#start the game\n",
    "Game()\n",
    "\n",
    "\n"
   ]
  },
  {
   "cell_type": "code",
   "execution_count": null,
   "id": "682cfa22",
   "metadata": {},
   "outputs": [],
   "source": []
  }
 ],
 "metadata": {
  "kernelspec": {
   "display_name": "tf_env",
   "language": "python",
   "name": "python3"
  },
  "language_info": {
   "codemirror_mode": {
    "name": "ipython",
    "version": 3
   },
   "file_extension": ".py",
   "mimetype": "text/x-python",
   "name": "python",
   "nbconvert_exporter": "python",
   "pygments_lexer": "ipython3",
   "version": "3.10.14"
  }
 },
 "nbformat": 4,
 "nbformat_minor": 5
}
